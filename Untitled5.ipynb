{
  "nbformat": 4,
  "nbformat_minor": 0,
  "metadata": {
    "colab": {
      "name": "Untitled5.ipynb",
      "provenance": [],
      "authorship_tag": "ABX9TyPgQspolqNFbzlYWrKqyhfa"
    },
    "kernelspec": {
      "name": "python3",
      "display_name": "Python 3"
    },
    "language_info": {
      "name": "python"
    }
  },
  "cells": [
    {
      "cell_type": "code",
      "execution_count": 1,
      "metadata": {
        "id": "5M41AfgcrU6S"
      },
      "outputs": [],
      "source": [
        "import requests\n",
        "response = requests.get('https://g1.globo.com/')\n",
        "from bs4 import BeautifulSoup as bf"
      ]
    },
    {
      "cell_type": "code",
      "source": [
        "UserHEADERS = ({\"Mozilla/5.0 (X11; Ubuntu; Linux x86_64; rv:101.0) Gecko/20100101 Firefox/101.0\"})\n",
        "content = response.content\n",
        "sites = bf(content, 'html.parser')\n",
        "noticias = sites.findAll('div', attrs={'class' : 'feed-post-body'})\n"
      ],
      "metadata": {
        "id": "FduSZXn9rbnR"
      },
      "execution_count": 4,
      "outputs": []
    },
    {
      "cell_type": "code",
      "source": [
        "titulo = sites.find('a', attrs={'class': 'feed-post-link'})\n",
        "print(titulo.text)"
      ],
      "metadata": {
        "colab": {
          "base_uri": "https://localhost:8080/"
        },
        "id": "FBAVZXcgr3jd",
        "outputId": "bbb082ba-a45b-4439-d083-3d9ab9fc0dde"
      },
      "execution_count": 5,
      "outputs": [
        {
          "output_type": "stream",
          "name": "stdout",
          "text": [
            "Mulher de tesoureiro do PT acompanha enterro com filha recém-nascida \n"
          ]
        }
      ]
    },
    {
      "cell_type": "code",
      "source": [
        "subtitulo = sites.find('div', attrs={'class' : 'feed-post-body-resumo'})\n",
        "print(subtitulo.text)\n"
      ],
      "metadata": {
        "colab": {
          "base_uri": "https://localhost:8080/"
        },
        "id": "Xr9_1S2Sr_Fx",
        "outputId": "0cab2a69-39e1-4f97-b8a0-5067e7f4ab7c"
      },
      "execution_count": 6,
      "outputs": [
        {
          "output_type": "stream",
          "name": "stdout",
          "text": [
            "Governo do Paraná nega que troca seja motivada pelas publicações.\n"
          ]
        }
      ]
    },
    {
      "cell_type": "code",
      "source": [
        "for noticia in noticias:\n",
        "    titulo = noticia.find('a', attrs={'class': 'feed-post-link'})\n",
        "    print(titulo.text)\n",
        "    subtitulo = noticia.find('div', attrs={'class' : 'feed-post-body-resumo'})\n",
        "    if (subtitulo):\n",
        "        print(subtitulo.text)"
      ],
      "metadata": {
        "colab": {
          "base_uri": "https://localhost:8080/"
        },
        "id": "54Jsd-4ysESf",
        "outputId": "99192cdf-6909-4ec7-a751-460e30a5e65e"
      },
      "execution_count": 7,
      "outputs": [
        {
          "output_type": "stream",
          "name": "stdout",
          "text": [
            "Mulher de tesoureiro do PT acompanha enterro com filha recém-nascida \n",
            "Justiça decreta prisão preventiva de bolsonarista que matou petista\n",
            "Delegada que postou contra o PT deixa comando da investigação\n",
            "Governo do Paraná nega que troca seja motivada pelas publicações.\n",
            "VÍDEO mostra prisão de anestesista que estuprou grávida no parto\n",
            "Giovanni Quintella Bezerra é levado para presídio no RJ\n",
            "'Quando voltou da mesa de cirurgia, ela veio suja', diz mãe de outra paciente\n",
            "Bolsonarista mata petista, estupro no parto e mais vídeos\n",
            "Traficantes pagavam para policiais não investigarem crimes, apontam gravações\n",
            "Imagens mostram momento da entrega do dinheiro.\n",
            "Elon Musk posta meme após desistir de comprar o Twitter\n"
          ]
        }
      ]
    }
  ]
}